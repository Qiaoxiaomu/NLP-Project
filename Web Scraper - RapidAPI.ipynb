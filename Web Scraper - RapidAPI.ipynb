{
 "cells": [
  {
   "cell_type": "markdown",
   "metadata": {},
   "source": [
    "## Note that len for a list = No. of elements in the list. However, for our df, sometimes when there's only one element at a position, the type is str!! len(str) is the No. of character in that str, not the No. of elements at that position!!!!"
   ]
  },
  {
   "cell_type": "code",
   "execution_count": 114,
   "metadata": {},
   "outputs": [],
   "source": [
    "from bs4 import BeautifulSoup\n",
    "import requests\n",
    "import json\n",
    "import pandas as pd\n",
    "from pandas.io.json import json_normalize\n",
    "import warnings"
   ]
  },
  {
   "cell_type": "code",
   "execution_count": 165,
   "metadata": {},
   "outputs": [
    {
     "name": "stdout",
     "output_type": "stream",
     "text": [
      "{\"data\": [{\"id\": \"4403535\", \"type\": \"article\", \"attributes\": {\"publishOn\": \"2021-02-04T17:11:59-05:00\", \"isLockedPro\": false, \"commentCount\": 29, \"title\": \"Apple Stumbles In An Important Business\"}, \"relationships\": {\"author\": {\"data\": {\"id\": \"96696\", \"type\": \"author\"}}, \"sentiments\": {\"data\": [{\"id\": \"311923\", \"type\": \"sentiment\"}]}, \"primaryTickers\": {\"data\": [{\"id\": \"146\", \"type\": \"tag\"}]}, \"secondaryTickers\": {\"data\": []}, \"otherTags\": {\"data\": []}}, \"links\": {\"self\": \"/article/4403535-apple-stumbles-in-important-business\"}}, {\"id\": \"4403371\", \"type\": \"article\", \"attributes\": {\"publishOn\": \"2021-02-04T12:54:46-05:00\", \"isLockedPro\": false, \"commentCount\": 16, \"title\": \"Q1 Results Show Increasing Asia Focus For Apple\"}, \"relationships\": {\"author\": {\"data\": {\"id\": \"72765\", \"type\": \"author\"}}, \"sentiments\": {\"data\": [{\"id\": \"311877\", \"type\": \"sentiment\"}]}, \"primaryTickers\": {\"data\": [{\"id\": \"146\", \"type\": \"tag\"}]}, \"secondaryTickers\": {\"data\": []}, \"otherTags\": {\"data\": []}}, \"links\": {\"self\": \"/article/4403371-q1-results-show-increasing-asia-focus-for-apple\"}}, {\"id\": \"4403099\", \"type\": \"article\", \"attributes\": {\"publishOn\": \"2021-02-03T14:35:48-05:00\", \"isLockedPro\": false, \"commentCount\": 40, \"title\": \"Apple Flexes Financial Muscle\"}, \"relationships\": {\"author\": {\"data\": {\"id\": \"24849\", \"type\": \"author\"}}, \"sentiments\": {\"data\": [{\"id\": \"311647\", \"type\": \"sentiment\"}]}, \"primaryTickers\": {\"data\": [{\"id\": \"146\", \"type\": \"tag\"}]}, \"secondaryTickers\": {\"data\": []}, \"otherTags\": {\"data\": []}}, \"links\": {\"self\": \"/article/4403099-apple-flexes-financial-muscle\"}}, {\"id\": \"4402159\", \"type\": \"article\", \"attributes\": {\"publishOn\": \"2021-02-01T09:00:00-05:00\", \"isLockedPro\": false, \"commentCount\": 91, \"title\": \"Apple: A Path To Doubling Its Revenue, Dividend Increases And Buybacks Could Make The 2020s Feel Like The 2010s\"}, \"relationships\": {\"author\": {\"data\": {\"id\": \"104513\", \"type\": \"author\"}}, \"sentiments\": {\"data\": [{\"id\": \"310993\", \"type\": \"sentiment\"}]}, \"primaryTickers\": {\"data\": [{\"id\": \"146\", \"type\": \"tag\"}]}, \"secondaryTickers\": {\"data\": []}, \"otherTags\": {\"data\": []}}, \"links\": {\"self\": \"/article/4402159-apple-path-to-doubling-revenue-dividend-increases-and-buybacks-make-2020s-feel-like-2010s\"}}, {\"id\": \"4402241\", \"type\": \"article\", \"attributes\": {\"publishOn\": \"2021-01-30T12:02:49-05:00\", \"isLockedPro\": false, \"commentCount\": 96, \"title\": \"Apple: The iPhone Supercycle Immune To COVID\"}, \"relationships\": {\"author\": {\"data\": {\"id\": \"104838\", \"type\": \"author\"}}, \"sentiments\": {\"data\": [{\"id\": \"311182\", \"type\": \"sentiment\"}]}, \"primaryTickers\": {\"data\": [{\"id\": \"146\", \"type\": \"tag\"}]}, \"secondaryTickers\": {\"data\": []}, \"otherTags\": {\"data\": [{\"id\": \"1302\", \"type\": \"tag\"}]}}, \"links\": {\"self\": \"/article/4402241-apple-iphone-supercycle-immune-to-covid\"}}, {\"id\": \"4401881\", \"type\": \"article\", \"attributes\": {\"publishOn\": \"2021-01-28T23:39:49-05:00\", \"isLockedPro\": false, \"commentCount\": 144, \"title\": \"Apple Reports A True Blockbuster\"}, \"relationships\": {\"author\": {\"data\": {\"id\": \"24849\", \"type\": \"author\"}}, \"sentiments\": {\"data\": [{\"id\": \"310789\", \"type\": \"sentiment\"}]}, \"primaryTickers\": {\"data\": [{\"id\": \"146\", \"type\": \"tag\"}]}, \"secondaryTickers\": {\"data\": []}, \"otherTags\": {\"data\": []}}, \"links\": {\"self\": \"/article/4401881-apple-reports-true-blockbuster\"}}, {\"id\": \"4401636\", \"type\": \"article\", \"attributes\": {\"publishOn\": \"2021-01-28T13:42:54-05:00\", \"isLockedPro\": false, \"commentCount\": 65, \"title\": \"Apple's Blockbuster Results Hurt By Lack Of Guidance\"}, \"relationships\": {\"author\": {\"data\": {\"id\": \"71685\", \"type\": \"author\"}}, \"sentiments\": {\"data\": [{\"id\": \"310933\", \"type\": \"sentiment\"}]}, \"primaryTickers\": {\"data\": [{\"id\": \"146\", \"type\": \"tag\"}]}, \"secondaryTickers\": {\"data\": []}, \"otherTags\": {\"data\": []}}, \"links\": {\"self\": \"/article/4401636-apples-blockbuster-results-hurt-lack-of-guidance\"}}, {\"id\": \"4401552\", \"type\": \"article\", \"attributes\": {\"publishOn\": \"2021-01-28T08:54:04-05:00\", \"isLockedPro\": false, \"commentCount\": 44, \"title\": \"Apple: Blowout Quarter, Look For Pullback Opportunity\"}, \"relationships\": {\"author\": {\"data\": {\"id\": \"92586\", \"type\": \"author\"}}, \"sentiments\": {\"data\": [{\"id\": \"310801\", \"type\": \"sentiment\"}]}, \"primaryTickers\": {\"data\": [{\"id\": \"146\", \"type\": \"tag\"}]}, \"secondaryTickers\": {\"data\": []}, \"otherTags\": {\"data\": []}}, \"links\": {\"self\": \"/article/4401552-apple-blowout-quarter-look-for-pullback-opportunity\"}}, {\"id\": \"4401437\", \"type\": \"article\", \"attributes\": {\"publishOn\": \"2021-01-27T17:10:03-05:00\", \"isLockedPro\": false, \"commentCount\": 226, \"title\": \"Why I Don't Regret Selling Apple At This Time Last Year\"}, \"relationships\": {\"author\": {\"data\": {\"id\": \"95006\", \"type\": \"author\"}}, \"sentiments\": {\"data\": [{\"id\": \"310733\", \"type\": \"sentiment\"}]}, \"primaryTickers\": {\"data\": [{\"id\": \"146\", \"type\": \"tag\"}]}, \"secondaryTickers\": {\"data\": []}, \"otherTags\": {\"data\": [{\"id\": \"1302\", \"type\": \"tag\"}]}}, \"links\": {\"self\": \"/article/4401437-why-i-dont-regret-selling-apple-this-time-last-year\"}}, {\"id\": \"4401210\", \"type\": \"article\", \"attributes\": {\"publishOn\": \"2021-01-27T00:44:43-05:00\", \"isLockedPro\": false, \"commentCount\": 80, \"title\": \"Apple Facing Massive Expectations\"}, \"relationships\": {\"author\": {\"data\": {\"id\": \"24849\", \"type\": \"author\"}}, \"sentiments\": {\"data\": [{\"id\": \"310326\", \"type\": \"sentiment\"}]}, \"primaryTickers\": {\"data\": [{\"id\": \"146\", \"type\": \"tag\"}]}, \"secondaryTickers\": {\"data\": []}, \"otherTags\": {\"data\": []}}, \"links\": {\"self\": \"/article/4401210-apple-facing-massive-expectations\"}}, {\"id\": \"4401036\", \"type\": \"article\", \"attributes\": {\"publishOn\": \"2021-01-26T13:49:05-05:00\", \"isLockedPro\": false, \"commentCount\": 57, \"title\": \"Apple's Research Costs Are Hurting Margins\"}, \"relationships\": {\"author\": {\"data\": {\"id\": \"96696\", \"type\": \"author\"}}, \"sentiments\": {\"data\": [{\"id\": \"310519\", \"type\": \"sentiment\"}]}, \"primaryTickers\": {\"data\": [{\"id\": \"146\", \"type\": \"tag\"}]}, \"secondaryTickers\": {\"data\": []}, \"otherTags\": {\"data\": []}}, \"links\": {\"self\": \"/article/4401036-apples-research-costs-are-hurting-margins\"}}, {\"id\": \"4400920\", \"type\": \"article\", \"attributes\": {\"publishOn\": \"2021-01-26T07:30:00-05:00\", \"isLockedPro\": false, \"commentCount\": 35, \"title\": \"Apple's TV Streaming Service Subscriber Count Is A Mirage - But It Doesn't Really Matter\"}, \"relationships\": {\"author\": {\"data\": {\"id\": \"68055\", \"type\": \"author\"}}, \"sentiments\": {\"data\": [{\"id\": \"310470\", \"type\": \"sentiment\"}]}, \"primaryTickers\": {\"data\": [{\"id\": \"146\", \"type\": \"tag\"}]}, \"secondaryTickers\": {\"data\": []}, \"otherTags\": {\"data\": [{\"id\": \"1302\", \"type\": \"tag\"}]}}, \"links\": {\"self\": \"/article/4400920-apples-tv-streaming-service-subscriber-count-is-mirage-doesnt-really-matter\"}}, {\"id\": \"4400911\", \"type\": \"article\", \"attributes\": {\"publishOn\": \"2021-01-25T23:24:51-05:00\", \"isLockedPro\": false, \"commentCount\": 39, \"title\": \"Apple Car And Smart Glasses: Market Analysis And Valuation Show A Positive Outlook\"}, \"relationships\": {\"author\": {\"data\": {\"id\": \"106009\", \"type\": \"author\"}}, \"sentiments\": {\"data\": [{\"id\": \"310080\", \"type\": \"sentiment\"}]}, \"primaryTickers\": {\"data\": [{\"id\": \"146\", \"type\": \"tag\"}]}, \"secondaryTickers\": {\"data\": []}, \"otherTags\": {\"data\": []}}, \"links\": {\"self\": \"/article/4400911-apple-car-and-smart-glasses-market-analysis-and-valuation-show-positive-outlook\"}}, {\"id\": \"4400823\", \"type\": \"article\", \"attributes\": {\"publishOn\": \"2021-01-25T13:42:13-05:00\", \"isLockedPro\": false, \"commentCount\": 57, \"title\": \"Apple: Upside From Future Buybacks Is Limited\"}, \"relationships\": {\"author\": {\"data\": {\"id\": \"96696\", \"type\": \"author\"}}, \"sentiments\": {\"data\": [{\"id\": \"310369\", \"type\": \"sentiment\"}]}, \"primaryTickers\": {\"data\": [{\"id\": \"146\", \"type\": \"tag\"}]}, \"secondaryTickers\": {\"data\": []}, \"otherTags\": {\"data\": []}}, \"links\": {\"self\": \"/article/4400823-apple-upside-from-future-buybacks-is-limited\"}}, {\"id\": \"4400815\", \"type\": \"article\", \"attributes\": {\"publishOn\": \"2021-01-25T12:50:53-05:00\", \"isLockedPro\": false, \"commentCount\": 76, \"title\": \"Apple's Stock May Soar In The Weeks Following Quarterly Results\"}, \"relationships\": {\"author\": {\"data\": {\"id\": \"71685\", \"type\": \"author\"}}, \"sentiments\": {\"data\": [{\"id\": \"310420\", \"type\": \"sentiment\"}]}, \"primaryTickers\": {\"data\": [{\"id\": \"146\", \"type\": \"tag\"}]}, \"secondaryTickers\": {\"data\": []}, \"otherTags\": {\"data\": []}}, \"links\": {\"self\": \"/article/4400815-apples-stock-may-soar-in-weeks-following-quarterly-results\"}}, {\"id\": \"4400645\", \"type\": \"article\", \"attributes\": {\"publishOn\": \"2021-01-24T15:07:48-05:00\", \"isLockedPro\": false, \"commentCount\": 192, \"title\": \"Microsoft Or Apple\"}, \"relationships\": {\"author\": {\"data\": {\"id\": \"59101\", \"type\": \"author\"}}, \"sentiments\": {\"data\": [{\"id\": \"309915\", \"type\": \"sentiment\"}, {\"id\": \"309916\", \"type\": \"sentiment\"}]}, \"primaryTickers\": {\"data\": [{\"id\": \"146\", \"type\": \"tag\"}]}, \"secondaryTickers\": {\"data\": []}, \"otherTags\": {\"data\": [{\"id\": \"1302\", \"type\": \"tag\"}]}}, \"links\": {\"self\": \"/article/4400645-microsoft-apple\"}}, {\"id\": \"4400322\", \"type\": \"article\", \"attributes\": {\"publishOn\": \"2021-01-22T00:12:02-05:00\", \"isLockedPro\": false, \"commentCount\": 104, \"title\": \"Apple Could Show Dramatic Fall In iPhone 12 Margins\"}, \"relationships\": {\"author\": {\"data\": {\"id\": \"96696\", \"type\": \"author\"}}, \"sentiments\": {\"data\": [{\"id\": \"309326\", \"type\": \"sentiment\"}]}, \"primaryTickers\": {\"data\": [{\"id\": \"146\", \"type\": \"tag\"}]}, \"secondaryTickers\": {\"data\": []}, \"otherTags\": {\"data\": []}}, \"links\": {\"self\": \"/article/4400322-apple-show-dramatic-fall-in-iphone-12-margins\"}}, {\"id\": \"4400237\", \"type\": \"article\", \"attributes\": {\"publishOn\": \"2021-01-21T15:28:42-05:00\", \"isLockedPro\": false, \"commentCount\": 153, \"title\": \"Apple: Valuation Myths And Facts\"}, \"relationships\": {\"author\": {\"data\": {\"id\": \"92456\", \"type\": \"author\"}}, \"sentiments\": {\"data\": [{\"id\": \"309893\", \"type\": \"sentiment\"}]}, \"primaryTickers\": {\"data\": [{\"id\": \"146\", \"type\": \"tag\"}]}, \"secondaryTickers\": {\"data\": []}, \"otherTags\": {\"data\": []}}, \"links\": {\"self\": \"/article/4400237-apple-valuation-myths-and-facts\"}}, {\"id\": \"4400233\", \"type\": \"article\", \"attributes\": {\"publishOn\": \"2021-01-21T15:19:44-05:00\", \"isLockedPro\": false, \"commentCount\": 27, \"title\": \"Apple's Priority On Improved OLED Encapsulation For Foldable Smartphones Will Impact Applied Materials\"}, \"relationships\": {\"author\": {\"data\": {\"id\": \"21597\", \"type\": \"author\"}}, \"sentiments\": {\"data\": [{\"id\": \"309918\", \"type\": \"sentiment\"}, {\"id\": \"309919\", \"type\": \"sentiment\"}]}, \"primaryTickers\": {\"data\": [{\"id\": \"146\", \"type\": \"tag\"}]}, \"secondaryTickers\": {\"data\": []}, \"otherTags\": {\"data\": []}}, \"links\": {\"self\": \"/article/4400233-apples-priority-on-improved-oled-encapsulation-for-foldable-smartphones-will-impact-applied\"}}, {\"id\": \"4399892\", \"type\": \"article\", \"attributes\": {\"publishOn\": \"2021-01-20T10:11:00-05:00\", \"isLockedPro\": false, \"commentCount\": 211, \"title\": \"Apple Stock: Buy, Sell, Or Hold?\"}, \"relationships\": {\"author\": {\"data\": {\"id\": \"104621\", \"type\": \"author\"}}, \"sentiments\": {\"data\": [{\"id\": \"309388\", \"type\": \"sentiment\"}]}, \"primaryTickers\": {\"data\": [{\"id\": \"146\", \"type\": \"tag\"}]}, \"secondaryTickers\": {\"data\": []}, \"otherTags\": {\"data\": [{\"id\": \"1302\", \"type\": \"tag\"}]}}, \"links\": {\"self\": \"/article/4399892-apple-stock-buy-sell-hold\"}}], \"included\": [{\"id\": \"96696\", \"type\": \"author\", \"attributes\": {\"company\": null, \"slug\": \"bluesea-research\", \"userId\": 18891911, \"tagId\": 548686, \"image\": {\"small\": \"https://static3.seekingalpha.com/images/users_profile/018/891/911/small_pic.png\", \"medium\": \"https://static3.seekingalpha.com/images/users_profile/018/891/911/medium_pic.png\", \"big\": \"https://static3.seekingalpha.com/images/users_profile/018/891/911/big_pic.png\", \"extra_large\": \"https://static3.seekingalpha.com/images/users_profile/018/891/911/extra_large_pic.png\"}, \"nick\": \"Bluesea Research\"}, \"relationships\": {\"user\": {\"data\": {\"id\": \"18891911\", \"type\": \"user\"}}}, \"links\": {\"self\": \"/author/bluesea-research\", \"profileUrl\": \"/author/bluesea-research\"}}, {\"id\": \"146\", \"type\": \"tag\", \"attributes\": {\"slug\": \"aapl\", \"name\": \"AAPL\"}, \"links\": {\"self\": \"/symbol/AAPL\"}}, {\"id\": \"311923\", \"type\": \"sentiment\", \"attributes\": {\"typeId\": 3, \"articleId\": 4403535, \"type\": \"bearish\"}, \"relationships\": {\"article\": {\"data\": {\"id\": \"4403535\", \"type\": \"article\"}}, \"tag\": {\"data\": {\"id\": \"146\", \"type\": \"tag\"}}}}, {\"id\": \"72765\", \"type\": \"author\", \"attributes\": {\"company\": null, \"slug\": \"nick-cox\", \"userId\": 12004341, \"tagId\": 169315, \"image\": {\"small\": \"https://static1.seekingalpha.com/images/users_profile/012/004/341/small_pic.png\", \"medium\": \"https://static1.seekingalpha.com/images/users_profile/012/004/341/medium_pic.png\", \"big\": \"https://static1.seekingalpha.com/images/users_profile/012/004/341/big_pic.png\", \"extra_large\": \"https://static1.seekingalpha.com/images/users_profile/012/004/341/extra_large_pic.png\"}, \"nick\": \"Nick Cox\"}, \"relationships\": {\"user\": {\"data\": {\"id\": \"12004341\", \"type\": \"user\"}}}, \"links\": {\"self\": \"/author/nick-cox\", \"profileUrl\": \"/author/nick-cox\"}}, {\"id\": \"311877\", \"type\": \"sentiment\", \"attributes\": {\"typeId\": 1, \"articleId\": 4403371, \"type\": \"bullish\"}, \"relationships\": {\"article\": {\"data\": {\"id\": \"4403371\", \"type\": \"article\"}}, \"tag\": {\"data\": {\"id\": \"146\", \"type\": \"tag\"}}}}, {\"id\": \"24849\", \"type\": \"author\", \"attributes\": {\"company\": null, \"slug\": \"bill-maurer\", \"userId\": 1017993, \"tagId\": 35201, \"image\": {\"small\": \"https://static1.seekingalpha.com/images/users_profile/001/017/993/small_pic.png\", \"medium\": \"https://static1.seekingalpha.com/images/users_profile/001/017/993/medium_pic.png\", \"big\": \"https://static1.seekingalpha.com/images/users_profile/001/017/993/big_pic.png\", \"extra_large\": \"https://static1.seekingalpha.com/images/users_profile/001/017/993/extra_large_pic.png\"}, \"nick\": \"Bill Maurer\"}, \"relationships\": {\"user\": {\"data\": {\"id\": \"1017993\", \"type\": \"user\"}}}, \"links\": {\"self\": \"/author/bill-maurer\", \"profileUrl\": \"/author/bill-maurer\"}}, {\"id\": \"311647\", \"type\": \"sentiment\", \"attributes\": {\"typeId\": 1, \"articleId\": 4403099, \"type\": \"bullish\"}, \"relationships\": {\"article\": {\"data\": {\"id\": \"4403099\", \"type\": \"article\"}}, \"tag\": {\"data\": {\"id\": \"146\", \"type\": \"tag\"}}}}, {\"id\": \"104513\", \"type\": \"author\", \"attributes\": {\"company\": null, \"slug\": \"steven-fiorillo\", \"userId\": 12629971, \"tagId\": 582949, \"image\": {\"small\": \"https://static3.seekingalpha.com/images/users_profile/012/629/971/small_pic.png\", \"medium\": \"https://static3.seekingalpha.com/images/users_profile/012/629/971/medium_pic.png\", \"big\": \"https://static3.seekingalpha.com/images/users_profile/012/629/971/big_pic.png\", \"extra_large\": \"https://static3.seekingalpha.com/images/users_profile/012/629/971/extra_large_pic.png\"}, \"nick\": \"Steven Fiorillo\"}, \"relationships\": {\"user\": {\"data\": {\"id\": \"12629971\", \"type\": \"user\"}}}, \"links\": {\"self\": \"/author/steven-fiorillo\", \"profileUrl\": \"/author/steven-fiorillo\"}}, {\"id\": \"310993\", \"type\": \"sentiment\", \"attributes\": {\"typeId\": 0, \"articleId\": 4402159, \"type\": \"very_bullish\"}, \"relationships\": {\"article\": {\"data\": {\"id\": \"4402159\", \"type\": \"article\"}}, \"tag\": {\"data\": {\"id\": \"146\", \"type\": \"tag\"}}}}, {\"id\": \"104838\", \"type\": \"author\", \"attributes\": {\"company\": null, \"slug\": \"trading-places-research\", \"userId\": 49663329, \"tagId\": 585839, \"image\": {\"small\": \"https://static1.seekingalpha.com/images/users_profile/049/663/329/small_pic.png\", \"medium\": \"https://static1.seekingalpha.com/images/users_profile/049/663/329/medium_pic.png\", \"big\": \"https://static1.seekingalpha.com/images/users_profile/049/663/329/big_pic.png\", \"extra_large\": \"https://static1.seekingalpha.com/images/users_profile/049/663/329/extra_large_pic.png\"}, \"nick\": \"Trading Places Research\"}, \"relationships\": {\"user\": {\"data\": {\"id\": \"49663329\", \"type\": \"user\"}}}, \"links\": {\"self\": \"/author/trading-places-research\", \"profileUrl\": \"/author/trading-places-research\"}}, {\"id\": \"311182\", \"type\": \"sentiment\", \"attributes\": {\"typeId\": 1, \"articleId\": 4402241, \"type\": \"bullish\"}, \"relationships\": {\"article\": {\"data\": {\"id\": \"4402241\", \"type\": \"article\"}}, \"tag\": {\"data\": {\"id\": \"146\", \"type\": \"tag\"}}}}, {\"id\": \"310789\", \"type\": \"sentiment\", \"attributes\": {\"typeId\": 1, \"articleId\": 4401881, \"type\": \"bullish\"}, \"relationships\": {\"article\": {\"data\": {\"id\": \"4401881\", \"type\": \"article\"}}, \"tag\": {\"data\": {\"id\": \"146\", \"type\": \"tag\"}}}}, {\"id\": \"71685\", \"type\": \"author\", \"attributes\": {\"company\": null, \"slug\": \"mott-capital-management\", \"userId\": 26750043, \"tagId\": 167055, \"image\": {\"small\": \"https://static3.seekingalpha.com/images/users_profile/026/750/043/small_pic.png\", \"medium\": \"https://static3.seekingalpha.com/images/users_profile/026/750/043/medium_pic.png\", \"big\": \"https://static3.seekingalpha.com/images/users_profile/026/750/043/big_pic.png\", \"extra_large\": \"https://static3.seekingalpha.com/images/users_profile/026/750/043/extra_large_pic.png\"}, \"nick\": \"Mott Capital Management\"}, \"relationships\": {\"user\": {\"data\": {\"id\": \"26750043\", \"type\": \"user\"}}}, \"links\": {\"self\": \"/author/mott-capital-management\", \"profileUrl\": \"/author/mott-capital-management\"}}, {\"id\": \"310933\", \"type\": \"sentiment\", \"attributes\": {\"typeId\": 1, \"articleId\": 4401636, \"type\": \"bullish\"}, \"relationships\": {\"article\": {\"data\": {\"id\": \"4401636\", \"type\": \"article\"}}, \"tag\": {\"data\": {\"id\": \"146\", \"type\": \"tag\"}}}}, {\"id\": \"92586\", \"type\": \"author\", \"attributes\": {\"company\": null, \"slug\": \"d-m-martins-research\", \"userId\": 40779175, \"tagId\": 532996, \"image\": {\"small\": \"https://static3.seekingalpha.com/images/users_profile/040/779/175/small_pic.png\", \"medium\": \"https://static3.seekingalpha.com/images/users_profile/040/779/175/medium_pic.png\", \"big\": \"https://static3.seekingalpha.com/images/users_profile/040/779/175/big_pic.png\", \"extra_large\": \"https://static3.seekingalpha.com/images/users_profile/040/779/175/extra_large_pic.png\"}, \"nick\": \"DM Martins Research\"}, \"relationships\": {\"user\": {\"data\": {\"id\": \"40779175\", \"type\": \"user\"}}}, \"links\": {\"self\": \"/author/d-m-martins-research\", \"profileUrl\": \"/author/d-m-martins-research\"}}, {\"id\": \"310801\", \"type\": \"sentiment\", \"attributes\": {\"typeId\": 1, \"articleId\": 4401552, \"type\": \"bullish\"}, \"relationships\": {\"article\": {\"data\": {\"id\": \"4401552\", \"type\": \"article\"}}, \"tag\": {\"data\": {\"id\": \"146\", \"type\": \"tag\"}}}}, {\"id\": \"95006\", \"type\": \"author\", \"attributes\": {\"company\": null, \"slug\": \"cory-cramer\", \"userId\": 17186012, \"tagId\": 543756, \"image\": {\"small\": \"https://static.seekingalpha.com/images/users_profile/017/186/012/small_pic.png\", \"medium\": \"https://static.seekingalpha.com/images/users_profile/017/186/012/medium_pic.png\", \"big\": \"https://static.seekingalpha.com/images/users_profile/017/186/012/big_pic.png\", \"extra_large\": \"https://static.seekingalpha.com/images/users_profile/017/186/012/extra_large_pic.png\"}, \"nick\": \"Cory Cramer\"}, \"relationships\": {\"user\": {\"data\": {\"id\": \"17186012\", \"type\": \"user\"}}}, \"links\": {\"self\": \"/author/cory-cramer\", \"profileUrl\": \"/author/cory-cramer\"}}, {\"id\": \"310733\", \"type\": \"sentiment\", \"attributes\": {\"typeId\": 3, \"articleId\": 4401437, \"type\": \"bearish\"}, \"relationships\": {\"article\": {\"data\": {\"id\": \"4401437\", \"type\": \"article\"}}, \"tag\": {\"data\": {\"id\": \"146\", \"type\": \"tag\"}}}}, {\"id\": \"310326\", \"type\": \"sentiment\", \"attributes\": {\"typeId\": 2, \"articleId\": 4401210, \"type\": \"neutral\"}, \"relationships\": {\"article\": {\"data\": {\"id\": \"4401210\", \"type\": \"article\"}}, \"tag\": {\"data\": {\"id\": \"146\", \"type\": \"tag\"}}}}, {\"id\": \"310519\", \"type\": \"sentiment\", \"attributes\": {\"typeId\": 3, \"articleId\": 4401036, \"type\": \"bearish\"}, \"relationships\": {\"article\": {\"data\": {\"id\": \"4401036\", \"type\": \"article\"}}, \"tag\": {\"data\": {\"id\": \"146\", \"type\": \"tag\"}}}}, {\"id\": \"68055\", \"type\": \"author\", \"attributes\": {\"company\": null, \"slug\": \"the-entertainment-oracle\", \"userId\": 28692465, \"tagId\": 159705, \"image\": {\"small\": \"https://static1.seekingalpha.com/images/users_profile/028/692/465/small_pic.png\", \"medium\": \"https://static1.seekingalpha.com/images/users_profile/028/692/465/medium_pic.png\", \"big\": \"https://static1.seekingalpha.com/images/users_profile/028/692/465/big_pic.png\", \"extra_large\": \"https://static1.seekingalpha.com/images/users_profile/028/692/465/extra_large_pic.png\"}, \"nick\": \"The Entertainment Oracle\"}, \"relationships\": {\"user\": {\"data\": {\"id\": \"28692465\", \"type\": \"user\"}}}, \"links\": {\"self\": \"/author/the-entertainment-oracle\", \"profileUrl\": \"/author/the-entertainment-oracle\"}}, {\"id\": \"310470\", \"type\": \"sentiment\", \"attributes\": {\"typeId\": 2, \"articleId\": 4400920, \"type\": \"neutral\"}, \"relationships\": {\"article\": {\"data\": {\"id\": \"4400920\", \"type\": \"article\"}}, \"tag\": {\"data\": {\"id\": \"146\", \"type\": \"tag\"}}}}, {\"id\": \"106009\", \"type\": \"author\", \"attributes\": {\"company\": null, \"slug\": \"gleb-krivosheev\", \"userId\": 52933525, \"tagId\": 607605, \"image\": {\"small\": \"https://static1.seekingalpha.com/images/users_profile/052/933/525/small_pic.png\", \"medium\": \"https://static1.seekingalpha.com/images/users_profile/052/933/525/medium_pic.png\", \"big\": \"https://static1.seekingalpha.com/images/users_profile/052/933/525/big_pic.png\", \"extra_large\": \"https://static1.seekingalpha.com/images/users_profile/052/933/525/extra_large_pic.png\"}, \"nick\": \"Gleb Krivosheev\"}, \"relationships\": {\"user\": {\"data\": {\"id\": \"52933525\", \"type\": \"user\"}}}, \"links\": {\"self\": \"/author/gleb-krivosheev\", \"profileUrl\": \"/author/gleb-krivosheev\"}}, {\"id\": \"310080\", \"type\": \"sentiment\", \"attributes\": {\"typeId\": 1, \"articleId\": 4400911, \"type\": \"bullish\"}, \"relationships\": {\"article\": {\"data\": {\"id\": \"4400911\", \"type\": \"article\"}}, \"tag\": {\"data\": {\"id\": \"146\", \"type\": \"tag\"}}}}, {\"id\": \"310369\", \"type\": \"sentiment\", \"attributes\": {\"typeId\": 3, \"articleId\": 4400823, \"type\": \"bearish\"}, \"relationships\": {\"article\": {\"data\": {\"id\": \"4400823\", \"type\": \"article\"}}, \"tag\": {\"data\": {\"id\": \"146\", \"type\": \"tag\"}}}}, {\"id\": \"310420\", \"type\": \"sentiment\", \"attributes\": {\"typeId\": 0, \"articleId\": 4400815, \"type\": \"very_bullish\"}, \"relationships\": {\"article\": {\"data\": {\"id\": \"4400815\", \"type\": \"article\"}}, \"tag\": {\"data\": {\"id\": \"146\", \"type\": \"tag\"}}}}, {\"id\": \"59101\", \"type\": \"author\", \"attributes\": {\"company\": null, \"slug\": \"chuck-walston\", \"userId\": 18321332, \"tagId\": 136951, \"image\": {\"small\": \"https://static.seekingalpha.com/images/users_profile/018/321/332/small_pic.png\", \"medium\": \"https://static.seekingalpha.com/images/users_profile/018/321/332/medium_pic.png\", \"big\": \"https://static.seekingalpha.com/images/users_profile/018/321/332/big_pic.png\", \"extra_large\": \"https://static.seekingalpha.com/images/users_profile/018/321/332/extra_large_pic.png\"}, \"nick\": \"Chuck Walston\"}, \"relationships\": {\"user\": {\"data\": {\"id\": \"18321332\", \"type\": \"user\"}}}, \"links\": {\"self\": \"/author/chuck-walston\", \"profileUrl\": \"/author/chuck-walston\"}}, {\"id\": \"309915\", \"type\": \"sentiment\", \"attributes\": {\"typeId\": 2, \"articleId\": 4400645, \"type\": \"neutral\"}, \"relationships\": {\"article\": {\"data\": {\"id\": \"4400645\", \"type\": \"article\"}}, \"tag\": {\"data\": {\"id\": \"146\", \"type\": \"tag\"}}}}, {\"id\": \"309916\", \"type\": \"sentiment\", \"attributes\": {\"typeId\": 1, \"articleId\": 4400645, \"type\": \"bullish\"}, \"relationships\": {\"article\": {\"data\": {\"id\": \"4400645\", \"type\": \"article\"}}, \"tag\": {\"data\": {\"id\": \"575\", \"type\": \"tag\"}}}}, {\"id\": \"309326\", \"type\": \"sentiment\", \"attributes\": {\"typeId\": 3, \"articleId\": 4400322, \"type\": \"bearish\"}, \"relationships\": {\"article\": {\"data\": {\"id\": \"4400322\", \"type\": \"article\"}}, \"tag\": {\"data\": {\"id\": \"146\", \"type\": \"tag\"}}}}, {\"id\": \"92456\", \"type\": \"author\", \"attributes\": {\"company\": null, \"slug\": \"oleh-kombaiev\", \"userId\": 36835796, \"tagId\": 532816, \"image\": {\"small\": \"https://static.seekingalpha.com/images/users_profile/036/835/796/small_pic.png\", \"medium\": \"https://static.seekingalpha.com/images/users_profile/036/835/796/medium_pic.png\", \"big\": \"https://static.seekingalpha.com/images/users_profile/036/835/796/big_pic.png\", \"extra_large\": \"https://static.seekingalpha.com/images/users_profile/036/835/796/extra_large_pic.png\"}, \"nick\": \"Oleh Kombaiev\"}, \"relationships\": {\"user\": {\"data\": {\"id\": \"36835796\", \"type\": \"user\"}}}, \"links\": {\"self\": \"/author/oleh-kombaiev\", \"profileUrl\": \"/author/oleh-kombaiev\"}}, {\"id\": \"309893\", \"type\": \"sentiment\", \"attributes\": {\"typeId\": 3, \"articleId\": 4400237, \"type\": \"bearish\"}, \"relationships\": {\"article\": {\"data\": {\"id\": \"4400237\", \"type\": \"article\"}}, \"tag\": {\"data\": {\"id\": \"146\", \"type\": \"tag\"}}}}, {\"id\": \"21597\", \"type\": \"author\", \"attributes\": {\"company\": null, \"slug\": \"robert-castellano\", \"userId\": 7008, \"tagId\": 10816, \"image\": {\"small\": \"https://static.seekingalpha.com/images/users_profile/000/007/008/small_pic.png\", \"medium\": \"https://static.seekingalpha.com/images/users_profile/000/007/008/medium_pic.png\", \"big\": \"https://static.seekingalpha.com/images/users_profile/000/007/008/big_pic.png\", \"extra_large\": \"https://static.seekingalpha.com/images/users_profile/000/007/008/extra_large_pic.png\"}, \"nick\": \"Robert Castellano\"}, \"relationships\": {\"user\": {\"data\": {\"id\": \"7008\", \"type\": \"user\"}}}, \"links\": {\"self\": \"/author/robert-castellano\", \"profileUrl\": \"/author/robert-castellano\"}}, {\"id\": \"309918\", \"type\": \"sentiment\", \"attributes\": {\"typeId\": 0, \"articleId\": 4400233, \"type\": \"very_bullish\"}, \"relationships\": {\"article\": {\"data\": {\"id\": \"4400233\", \"type\": \"article\"}}, \"tag\": {\"data\": {\"id\": \"146\", \"type\": \"tag\"}}}}, {\"id\": \"309919\", \"type\": \"sentiment\", \"attributes\": {\"typeId\": 3, \"articleId\": 4400233, \"type\": \"bearish\"}, \"relationships\": {\"article\": {\"data\": {\"id\": \"4400233\", \"type\": \"article\"}}, \"tag\": {\"data\": {\"id\": \"1132\", \"type\": \"tag\"}}}}, {\"id\": \"104621\", \"type\": \"author\", \"attributes\": {\"company\": null, \"slug\": \"logan-kane\", \"userId\": 38513626, \"tagId\": 583946, \"image\": {\"small\": \"https://static2.seekingalpha.com/images/users_profile/038/513/626/small_pic.png\", \"medium\": \"https://static2.seekingalpha.com/images/users_profile/038/513/626/medium_pic.png\", \"big\": \"https://static2.seekingalpha.com/images/users_profile/038/513/626/big_pic.png\", \"extra_large\": \"https://static2.seekingalpha.com/images/users_profile/038/513/626/extra_large_pic.png\"}, \"nick\": \"Logan Kane\"}, \"relationships\": {\"user\": {\"data\": {\"id\": \"38513626\", \"type\": \"user\"}}}, \"links\": {\"self\": \"/author/logan-kane\", \"profileUrl\": \"/author/logan-kane\"}}, {\"id\": \"309388\", \"type\": \"sentiment\", \"attributes\": {\"typeId\": 2, \"articleId\": 4399892, \"type\": \"neutral\"}, \"relationships\": {\"article\": {\"data\": {\"id\": \"4399892\", \"type\": \"article\"}}, \"tag\": {\"data\": {\"id\": \"146\", \"type\": \"tag\"}}}}], \"meta\": {\"page\": {\"title\": \"Apple Inc. (AAPL) Latest Stock Analysis\", \"description\": \"Find the latest Apple Inc. AAPL stock analysis from Seeking Alpha\\u2019s top analysts: exclusive research and insights from bulls and bears\", \"listTitle\": \"Analysis\", \"proStatus\": 0, \"size\": 20, \"totalPages\": 2, \"total\": 23, \"minmaxPublishOn\": {\"min\": 1611155460, \"max\": 1612476719}}, \"ads\": {\"zone\": \"quotes/stocks/analysis/dashboard\"}, \"mone\": {\"params\": {\"pu\": \"\"}}}}\n"
     ]
    }
   ],
   "source": [
    "url = \"https://seeking-alpha.p.rapidapi.com/analysis/list\"\n",
    "\n",
    "querystring = {\"id\":\"aapl\",\"until\":\"0\",\"size\":\"20\"}\n",
    "\n",
    "headers = {\n",
    "    'x-rapidapi-key': \"7eb0b45b01msh6e846efab3e0c10p1100b8jsn49855d33b41d\",\n",
    "    'x-rapidapi-host': \"seeking-alpha.p.rapidapi.com\"\n",
    "    }\n",
    "\n",
    "response = requests.request(\"GET\", url, headers=headers, params=querystring)\n",
    "\n",
    "\n",
    "#print(response.text)\n",
    "\n",
    "content=json.loads(response.text)\n",
    "#print(content)\n",
    "\n",
    "jsonresponse=json.dumps(response.json())\n",
    "print(jsonresponse)"
   ]
  },
  {
   "cell_type": "code",
   "execution_count": 116,
   "metadata": {},
   "outputs": [],
   "source": [
    "#content['data'][1]['relationships']['author']['data']['id']"
   ]
  },
  {
   "cell_type": "code",
   "execution_count": 117,
   "metadata": {},
   "outputs": [],
   "source": [
    "#print(content['data'][18]['relationships']['sentiments']['data'])\n",
    "\n",
    "#afafaafaf=[]\n",
    "        \n",
    "#for j in range(len(content['data'][18]['relationships']['sentiments']['data'])):\n",
    "            \n",
    "        #afafaafaf.append(content['data'][18]['relationships']['sentiments']['data'][j]['id'])\n",
    "\n",
    "#print(afafaafaf)"
   ]
  },
  {
   "cell_type": "code",
   "execution_count": 118,
   "metadata": {},
   "outputs": [],
   "source": [
    "#content['data'][0]['relationships']['author']['data']"
   ]
  },
  {
   "cell_type": "code",
   "execution_count": 119,
   "metadata": {
    "scrolled": true
   },
   "outputs": [],
   "source": [
    "#print(content['data'][0]['relationships']['author']['data'].__contains__('id')) #Test whether the dictionary has such keys"
   ]
  },
  {
   "cell_type": "code",
   "execution_count": 164,
   "metadata": {},
   "outputs": [
    {
     "data": {
      "text/plain": [
       "list"
      ]
     },
     "execution_count": 164,
     "metadata": {},
     "output_type": "execute_result"
    }
   ],
   "source": [
    "type(content['data'])"
   ]
  },
  {
   "cell_type": "code",
   "execution_count": 120,
   "metadata": {},
   "outputs": [
    {
     "name": "stdout",
     "output_type": "stream",
     "text": [
      "Data Saved\n"
     ]
    }
   ],
   "source": [
    "df=pd.DataFrame(columns=['article_id','article_title','publishtime','comment_num','author_id','sentiment_id','ticker_id','article_link'])\n",
    "\n",
    "for i in range(len(content['data'])): #No need to worry about the use of lens here, as \"content['data']\" is the \"list\" of all articles\n",
    "    \n",
    "#Screening out special cases of none sentiment _id/multiple sentiment_id\n",
    "\n",
    "    if len(content['data'][i]['relationships']['sentiments']['data'])==1:  #Same here, this has to be a list, len is safe to use here\n",
    "            \n",
    "        sentiment_id_get=content['data'][i]['relationships']['sentiments']['data'][0]['id']    \n",
    "            \n",
    "    elif len(content['data'][i]['relationships']['sentiments']['data'])==0:\n",
    "            \n",
    "        sentiment_id_get=None\n",
    "        \n",
    "    elif len(content['data'][i]['relationships']['sentiments']['data'])>1:\n",
    "        \n",
    "        sentiment_id_get=[]\n",
    "        \n",
    "        for j in range(len(content['data'][i]['relationships']['sentiments']['data'])):\n",
    "            \n",
    "            sentiment_id_get.append(content['data'][i]['relationships']['sentiments']['data'][j]['id'])\n",
    "    \n",
    "    else:\n",
    "        \n",
    "        sentiment_id_get=\"Error\"\n",
    "        \n",
    "#Screening out special cases of none author _id/multiple author_id\n",
    "\n",
    "    if len(content['data'][i]['relationships']['author']['data'])==2:  \n",
    "            \n",
    "        author_id_get=content['data'][i]['relationships']['author']['data']['id']    \n",
    "            \n",
    "    elif len(content['data'][i]['relationships']['author']['data'])==0:\n",
    "            \n",
    "        author_id_get=None\n",
    "        \n",
    "    elif len(content['data'][i]['relationships']['author']['data'])>2:\n",
    "        \n",
    "        author_id_get=[]\n",
    "        \n",
    "        for j in range(len(content['data'][i]['relationships']['author']['data'])):\n",
    "            \n",
    "            author_id_get.append(content['data'][i]['relationships']['author']['data'][j]['id'])\n",
    "            \n",
    "            #if content['data'][0]['relationships']['author']['data'].__contains__('id')==True: #test whether such key exists in dict\n",
    "                \n",
    "                #author_id_get.append(content['data'][i]['relationships']['author']['data']['id'])\n",
    "            \n",
    "            #elif content['data'][0]['relationships']['author']['data'].__contains__('j')==True:\n",
    "                                \n",
    "                #author_id_get.append(content['data'][i]['relationships']['author']['data'][j]['id'])\n",
    "                    \n",
    "    else:\n",
    "        \n",
    "        author_id_get=\"Error\"\n",
    "        \n",
    "#Screening out special cases of none ticker _id/multiple ticker_id\n",
    "\n",
    "    if len(content['data'][i]['relationships']['primaryTickers']['data'])==1:  \n",
    "            \n",
    "        ticker_id_get=content['data'][i]['relationships']['primaryTickers']['data'][0]['id']    \n",
    "            \n",
    "    elif len(content['data'][i]['relationships']['primaryTickers']['data'])==0:\n",
    "            \n",
    "        ticker_id_get=None\n",
    "        \n",
    "    elif len(content['data'][i]['relationships']['primaryTickers']['data'])>1:\n",
    "        \n",
    "        ticker_id_get=[]\n",
    "        \n",
    "        for j in range(len(content['data'][i]['relationships']['primaryTickers']['data'])):\n",
    "            \n",
    "            ticker_id_get.append(content['data'][i]['relationships']['primaryTickers']['data'][j]['id'])\n",
    "    \n",
    "    else:\n",
    "        \n",
    "        ticker_id_get=\"Error\"\n",
    "    \n",
    "#Fill in the DataFrame\n",
    "\n",
    "    df.loc[i+1]=[content['data'][i]['id'],\n",
    "                content['data'][i]['attributes']['title'],\n",
    "                content['data'][i]['attributes']['publishOn'],\n",
    "                content['data'][i]['attributes']['commentCount'],\n",
    "                author_id_get,\n",
    "                sentiment_id_get,\n",
    "                ticker_id_get,\n",
    "                content['data'][i]['links']['self']]\n",
    "\n",
    "    #df.loc[i+1]=[content['data'][i]['id'],\n",
    "                #content['data'][i]['attributes']['title'],\n",
    "                #content['data'][i]['attributes']['publishOn'],\n",
    "                #content['data'][i]['attributes']['commentCount'],\n",
    "                #content['data'][i]['relationships']['author']['data']['id'],\n",
    "                #content['data'][i]['relationships']['sentiments']['data'][j]['id'],\n",
    "                #content['data'][i]['relationships']['primaryTickers']['data'][0]['id'],\n",
    "                #content['data'][i]['links']['self']]\n",
    "\n",
    "#df.to_csv('test.csv',index=0,encoding='utf_8_sig')\n",
    "#print('Data Saved')"
   ]
  },
  {
   "cell_type": "code",
   "execution_count": 121,
   "metadata": {},
   "outputs": [
    {
     "name": "stdout",
     "output_type": "stream",
     "text": [
      "1     4403535\n",
      "2     4403371\n",
      "3     4403099\n",
      "4     4402159\n",
      "5     4402241\n",
      "6     4401881\n",
      "7     4401636\n",
      "8     4401552\n",
      "9     4401437\n",
      "10    4401210\n",
      "11    4401036\n",
      "12    4400920\n",
      "13    4400911\n",
      "14    4400823\n",
      "15    4400815\n",
      "16    4400645\n",
      "17    4400322\n",
      "18    4400237\n",
      "19    4400233\n",
      "20    4399892\n",
      "Name: article_id, dtype: object\n"
     ]
    }
   ],
   "source": [
    "print(df['article_id'])"
   ]
  },
  {
   "cell_type": "code",
   "execution_count": 123,
   "metadata": {},
   "outputs": [
    {
     "name": "stdout",
     "output_type": "stream",
     "text": [
      "4403099\n"
     ]
    }
   ],
   "source": [
    "k=2\n",
    "\n",
    "query_id=df['article_id'][k+1]\n",
    "\n",
    "print(query_id)"
   ]
  },
  {
   "cell_type": "code",
   "execution_count": 129,
   "metadata": {},
   "outputs": [
    {
     "name": "stdout",
     "output_type": "stream",
     "text": [
      "4403099\n"
     ]
    }
   ],
   "source": [
    "k=2\n",
    "\n",
    "query_id=df['article_id'][k+1]\n",
    "    \n",
    "url_de = \"https://seeking-alpha.p.rapidapi.com/analysis/get-details\"\n",
    "\n",
    "print(query_id)\n",
    "\n",
    "querystring_de = {\"id\":query_id}\n",
    "\n",
    "headers_de = {\n",
    "    'x-rapidapi-key': \"7eb0b45b01msh6e846efab3e0c10p1100b8jsn49855d33b41d\",\n",
    "    'x-rapidapi-host': \"seeking-alpha.p.rapidapi.com\"\n",
    "        }\n",
    "\n",
    "response_de = requests.request(\"GET\", url_de, headers=headers_de, params=querystring_de)\n",
    "    \n",
    "content_de=json.loads(response_de.text)\n",
    "\n",
    "content_de_json=json.dumps(response_de.json())\n",
    "\n",
    "#print(content_de_json)"
   ]
  },
  {
   "cell_type": "code",
   "execution_count": 167,
   "metadata": {},
   "outputs": [
    {
     "data": {
      "text/plain": [
       "20"
      ]
     },
     "execution_count": 167,
     "metadata": {},
     "output_type": "execute_result"
    }
   ],
   "source": [
    "len(df['article_id'])"
   ]
  },
  {
   "cell_type": "code",
   "execution_count": 169,
   "metadata": {},
   "outputs": [
    {
     "name": "stdout",
     "output_type": "stream",
     "text": [
      "   article_id                                      article_title  \\\n",
      "1     4403535            Apple Stumbles In An Important Business   \n",
      "2     4403371    Q1 Results Show Increasing Asia Focus For Apple   \n",
      "3     4403099                      Apple Flexes Financial Muscle   \n",
      "4     4402159  Apple: A Path To Doubling Its Revenue, Dividen...   \n",
      "5     4402241       Apple: The iPhone Supercycle Immune To COVID   \n",
      "6     4401881                   Apple Reports A True Blockbuster   \n",
      "7     4401636  Apple's Blockbuster Results Hurt By Lack Of Gu...   \n",
      "8     4401552  Apple: Blowout Quarter, Look For Pullback Oppo...   \n",
      "9     4401437  Why I Don't Regret Selling Apple At This Time ...   \n",
      "10    4401210                  Apple Facing Massive Expectations   \n",
      "11    4401036         Apple's Research Costs Are Hurting Margins   \n",
      "12    4400920  Apple's TV Streaming Service Subscriber Count ...   \n",
      "13    4400911  Apple Car And Smart Glasses: Market Analysis A...   \n",
      "14    4400823      Apple: Upside From Future Buybacks Is Limited   \n",
      "15    4400815  Apple's Stock May Soar In The Weeks Following ...   \n",
      "16    4400645                                 Microsoft Or Apple   \n",
      "17    4400322  Apple Could Show Dramatic Fall In iPhone 12 Ma...   \n",
      "18    4400237                   Apple: Valuation Myths And Facts   \n",
      "19    4400233  Apple's Priority On Improved OLED Encapsulatio...   \n",
      "20    4399892                   Apple Stock: Buy, Sell, Or Hold?   \n",
      "\n",
      "                  publishtime comment_num author_id      sentiment_id  \\\n",
      "1   2021-02-04T17:11:59-05:00          29     96696            311923   \n",
      "2   2021-02-04T12:54:46-05:00          15     72765            311877   \n",
      "3   2021-02-03T14:35:48-05:00          40     24849            311647   \n",
      "4   2021-02-01T09:00:00-05:00          91    104513            310993   \n",
      "5   2021-01-30T12:02:49-05:00          96    104838            311182   \n",
      "6   2021-01-28T23:39:49-05:00         144     24849            310789   \n",
      "7   2021-01-28T13:42:54-05:00          65     71685            310933   \n",
      "8   2021-01-28T08:54:04-05:00          44     92586            310801   \n",
      "9   2021-01-27T17:10:03-05:00         226     95006            310733   \n",
      "10  2021-01-27T00:44:43-05:00          80     24849            310326   \n",
      "11  2021-01-26T13:49:05-05:00          57     96696            310519   \n",
      "12  2021-01-26T07:30:00-05:00          35     68055            310470   \n",
      "13  2021-01-25T23:24:51-05:00          39    106009            310080   \n",
      "14  2021-01-25T13:42:13-05:00          57     96696            310369   \n",
      "15  2021-01-25T12:50:53-05:00          76     71685            310420   \n",
      "16  2021-01-24T15:07:48-05:00         192     59101  [309915, 309916]   \n",
      "17  2021-01-22T00:12:02-05:00         104     96696            309326   \n",
      "18  2021-01-21T15:28:42-05:00         153     92456            309893   \n",
      "19  2021-01-21T15:19:44-05:00          27     21597  [309918, 309919]   \n",
      "20  2021-01-20T10:11:00-05:00         211    104621            309388   \n",
      "\n",
      "   ticker_id                                       article_link  \\\n",
      "1        146  /article/4403535-apple-stumbles-in-important-b...   \n",
      "2        146  /article/4403371-q1-results-show-increasing-as...   \n",
      "3        146     /article/4403099-apple-flexes-financial-muscle   \n",
      "4        146  /article/4402159-apple-path-to-doubling-revenu...   \n",
      "5        146  /article/4402241-apple-iphone-supercycle-immun...   \n",
      "6        146    /article/4401881-apple-reports-true-blockbuster   \n",
      "7        146  /article/4401636-apples-blockbuster-results-hu...   \n",
      "8        146  /article/4401552-apple-blowout-quarter-look-fo...   \n",
      "9        146  /article/4401437-why-i-dont-regret-selling-app...   \n",
      "10       146  /article/4401210-apple-facing-massive-expectat...   \n",
      "11       146  /article/4401036-apples-research-costs-are-hur...   \n",
      "12       146  /article/4400920-apples-tv-streaming-service-s...   \n",
      "13       146  /article/4400911-apple-car-and-smart-glasses-m...   \n",
      "14       146  /article/4400823-apple-upside-from-future-buyb...   \n",
      "15       146  /article/4400815-apples-stock-may-soar-in-week...   \n",
      "16       146                   /article/4400645-microsoft-apple   \n",
      "17       146  /article/4400322-apple-show-dramatic-fall-in-i...   \n",
      "18       146   /article/4400237-apple-valuation-myths-and-facts   \n",
      "19       146  /article/4400233-apples-priority-on-improved-o...   \n",
      "20       146         /article/4399892-apple-stock-buy-sell-hold   \n",
      "\n",
      "                  sentiment  \\\n",
      "1                 [bearish]   \n",
      "2                 [bullish]   \n",
      "3                 [bullish]   \n",
      "4            [very_bullish]   \n",
      "5                 [bullish]   \n",
      "6                 [bullish]   \n",
      "7                 [bullish]   \n",
      "8                 [bullish]   \n",
      "9                 [bearish]   \n",
      "10                [neutral]   \n",
      "11                [bearish]   \n",
      "12                [neutral]   \n",
      "13                [bullish]   \n",
      "14                [bearish]   \n",
      "15           [very_bullish]   \n",
      "16       [neutral, bullish]   \n",
      "17                [bearish]   \n",
      "18                [bearish]   \n",
      "19  [very_bullish, bearish]   \n",
      "20                [neutral]   \n",
      "\n",
      "                                              summary  \\\n",
      "1   [Apple’s Wearables segment has often been quot...   \n",
      "2   [China iPhone sales were the headline number i...   \n",
      "3   [Company borrows $14 billion at very low rates...   \n",
      "4   [Apple is still a strong buy as Q1 2021 genera...   \n",
      "5   [2021 marks the beginning of a new iPhone supe...   \n",
      "6   [Revenues and earnings smash Street expectatio...   \n",
      "7   [Apple reported blockbuster results., The comp...   \n",
      "8   [Apple delivered a spotless holiday quarter, w...   \n",
      "9   [Last year at this time I sold Apple shares I ...   \n",
      "10  [Analyst estimates rise into this week's earni...   \n",
      "11  [Apple is rapidly increasing its research and ...   \n",
      "12  [A new report from MoffettNathanson showed tha...   \n",
      "13  [Apple Car is expected to reach market in 2024...   \n",
      "14  [Apple has made a major bet on buybacks in the...   \n",
      "15  [Apple will report fiscal first quarter result...   \n",
      "16  [To warrant high PE multiples, Apple and Micro...   \n",
      "17  [The bill of materials for the latest iPhones ...   \n",
      "18  [Given the current cost of capital, the presen...   \n",
      "19  [Apple is scrutinizing a critical process in m...   \n",
      "20  [Apple is a fantastic business trading for a p...   \n",
      "\n",
      "                                              content  \n",
      "1   \\n\\n<p>Apple’s (<a href=\"https://seekingalpha....  \n",
      "2   \\n\\n<p>The Q1 numbers for Apple <span class=\"t...  \n",
      "3   \\n\\n<p>Last week, technology giant Apple (<a h...  \n",
      "4   \\n\\n<p>Over the past few days, the market has ...  \n",
      "5   \\n\\n<h2>Questions Answered and Unanswered</h2>...  \n",
      "6   \\n\\n<p>After the bell on Wednesday, we receive...  \n",
      "7   \\n<div> <p>Apple (<a href=\"https://seekingalph...  \n",
      "8   \\n\\n<p><a href=\"https://seekingalpha.com/artic...  \n",
      "9   \\n\\n<p><img src=\"https://static.seekingalpha.c...  \n",
      "10  \\n\\n<p>After the bell this Wednesday, we'll re...  \n",
      "11  \\n\\n<p>Apple (<a href=\"https://seekingalpha.co...  \n",
      "12  \\n\\n<p><span><a href=\"https://static.seekingal...  \n",
      "13  \\n\\n<h2>Investment Thesis</h2> <p>Apple (<a hr...  \n",
      "14  \\n\\n<p>Apple (<a href=\"https://seekingalpha.co...  \n",
      "15  \\n\\n<p>Apple (<a href=\"https://seekingalpha.co...  \n",
      "16  \\n\\n<p>This article’s purpose is to determine ...  \n",
      "17  \\n\\n<p>Apple <span class=\"ticker-hover-wrapper...  \n",
      "18  \\n<div> <p><img src=\"https://static.seekingalp...  \n",
      "19  \\n\\n<p>Applied Materials (<a href=\"https://see...  \n",
      "20  \\n\\n<p>For as long as I can remember, Apple (<...  \n"
     ]
    }
   ],
   "source": [
    "details = pd.concat([df, pd.DataFrame(columns=['sentiment','summary','content'])], sort=False)\n",
    "\n",
    "for k in range(len(df['article_id'])):\n",
    "    \n",
    "    query_id=df['article_id'][k+1]\n",
    "    \n",
    "    url_de = \"https://seeking-alpha.p.rapidapi.com/analysis/get-details\"\n",
    "\n",
    "    querystring_de = {\"id\":query_id}\n",
    "\n",
    "    headers_de = {\n",
    "        'x-rapidapi-key': \"7eb0b45b01msh6e846efab3e0c10p1100b8jsn49855d33b41d\",\n",
    "        'x-rapidapi-host': \"seeking-alpha.p.rapidapi.com\"\n",
    "        }\n",
    "\n",
    "    response_de = requests.request(\"GET\", url_de, headers=headers_de, params=querystring_de,verify=False)##Dangerous move to avoid error\n",
    "    \n",
    "    warnings.filterwarnings(\"ignore\")#ignore warnings\n",
    "    \n",
    "    content_de=json.loads(response_de.text)\n",
    "    \n",
    "    #Get Summary\n",
    "    \n",
    "    if content_de['data']['attributes'].__contains__('summary')==True:\n",
    "        \n",
    "        summary_get=[]\n",
    "        \n",
    "        for l in range(len(content_de['data']['attributes']['summary'])):\n",
    "            \n",
    "            summary_get.append(content_de['data']['attributes']['summary'][l])  \n",
    "        \n",
    "        details['summary'][k+1]=summary_get\n",
    "        \n",
    "    else:\n",
    "        \n",
    "        details['summary'][k+1]=None\n",
    "        \n",
    "#print(details)\n",
    "#details.to_csv('details.csv',index=0,encoding='utf_8_sig')\n",
    "\n",
    "\n",
    "    #Get Content\n",
    "    \n",
    "    if content_de['data']['attributes'].__contains__('content')==True:\n",
    "        \n",
    "        details['content'][k+1]=content_de['data']['attributes']['content']\n",
    "    \n",
    "    else:\n",
    "        \n",
    "        details['content'][k+1]=None\n",
    "    \n",
    "    #Get Sentiment\n",
    "    \n",
    "    if len(details['sentiment_id'][k+1])==0:\n",
    "        \n",
    "        details['sentiment'][k+1]=None\n",
    "    \n",
    "    elif type(details['sentiment_id'][k+1])==str:\n",
    "        \n",
    "        sentiment_get=[]\n",
    "        \n",
    "        for m in range(len(content_de['included'])):\n",
    "            \n",
    "            if content_de['included'][m]['id']==details['sentiment_id'][k+1] and content_de['included'][m]['type']=='sentiment':\n",
    "                \n",
    "                sentiment_get.append(content_de['included'][m]['attributes']['type'])\n",
    "                               \n",
    "        details['sentiment'][k+1]=sentiment_get\n",
    "        \n",
    "    elif type(details['sentiment_id'][k+1])==list:\n",
    "        \n",
    "        sentiment_get=[]\n",
    "        \n",
    "        for n in range(len(details['sentiment_id'][k+1])):\n",
    "        \n",
    "            for o in range(len(content_de['included'])):\n",
    "            \n",
    "                if content_de['included'][o]['id']==details['sentiment_id'][k+1][n] and content_de['included'][o]['type']=='sentiment':\n",
    "                \n",
    "                    sentiment_get.append(content_de['included'][o]['attributes']['type'])\n",
    "                               \n",
    "        details['sentiment'][k+1]=sentiment_get\n",
    "    \n",
    "    else:\n",
    "    \n",
    "        details['sentiment'][k+1]=\"Error\"\n",
    "        \n",
    "print(details)                  \n",
    "\n",
    "#details.to_csv('Results.csv',index=0,encoding='utf_8_sig')\n",
    "#print('Data Saved')"
   ]
  }
 ],
 "metadata": {
  "kernelspec": {
   "display_name": "Python 3",
   "language": "python",
   "name": "python3"
  },
  "language_info": {
   "codemirror_mode": {
    "name": "ipython",
    "version": 3
   },
   "file_extension": ".py",
   "mimetype": "text/x-python",
   "name": "python",
   "nbconvert_exporter": "python",
   "pygments_lexer": "ipython3",
   "version": "3.7.3"
  }
 },
 "nbformat": 4,
 "nbformat_minor": 2
}
